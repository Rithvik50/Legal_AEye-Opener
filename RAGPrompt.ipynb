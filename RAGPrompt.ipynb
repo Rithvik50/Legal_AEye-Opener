{
  "cells": [
    {
      "cell_type": "code",
      "source": [
        "!pip install faiss-cpu sentence-transformers transformers"
      ],
      "metadata": {
        "id": "xtoAxGkdmYX1",
        "outputId": "8d948773-b7c1-4ba5-9457-66f162e7cd68",
        "colab": {
          "base_uri": "https://localhost:8080/"
        }
      },
      "execution_count": 4,
      "outputs": [
        {
          "output_type": "stream",
          "name": "stdout",
          "text": [
            "Requirement already satisfied: faiss-cpu in /usr/local/lib/python3.11/dist-packages (1.10.0)\n",
            "Requirement already satisfied: sentence-transformers in /usr/local/lib/python3.11/dist-packages (3.4.1)\n",
            "Requirement already satisfied: transformers in /usr/local/lib/python3.11/dist-packages (4.48.3)\n",
            "Requirement already satisfied: numpy<3.0,>=1.25.0 in /usr/local/lib/python3.11/dist-packages (from faiss-cpu) (1.26.4)\n",
            "Requirement already satisfied: packaging in /usr/local/lib/python3.11/dist-packages (from faiss-cpu) (24.2)\n",
            "Requirement already satisfied: tqdm in /usr/local/lib/python3.11/dist-packages (from sentence-transformers) (4.67.1)\n",
            "Requirement already satisfied: torch>=1.11.0 in /usr/local/lib/python3.11/dist-packages (from sentence-transformers) (2.5.1+cu124)\n",
            "Requirement already satisfied: scikit-learn in /usr/local/lib/python3.11/dist-packages (from sentence-transformers) (1.6.1)\n",
            "Requirement already satisfied: scipy in /usr/local/lib/python3.11/dist-packages (from sentence-transformers) (1.13.1)\n",
            "Requirement already satisfied: huggingface-hub>=0.20.0 in /usr/local/lib/python3.11/dist-packages (from sentence-transformers) (0.28.1)\n",
            "Requirement already satisfied: Pillow in /usr/local/lib/python3.11/dist-packages (from sentence-transformers) (11.1.0)\n",
            "Requirement already satisfied: filelock in /usr/local/lib/python3.11/dist-packages (from transformers) (3.17.0)\n",
            "Requirement already satisfied: pyyaml>=5.1 in /usr/local/lib/python3.11/dist-packages (from transformers) (6.0.2)\n",
            "Requirement already satisfied: regex!=2019.12.17 in /usr/local/lib/python3.11/dist-packages (from transformers) (2024.11.6)\n",
            "Requirement already satisfied: requests in /usr/local/lib/python3.11/dist-packages (from transformers) (2.32.3)\n",
            "Requirement already satisfied: tokenizers<0.22,>=0.21 in /usr/local/lib/python3.11/dist-packages (from transformers) (0.21.0)\n",
            "Requirement already satisfied: safetensors>=0.4.1 in /usr/local/lib/python3.11/dist-packages (from transformers) (0.5.3)\n",
            "Requirement already satisfied: fsspec>=2023.5.0 in /usr/local/lib/python3.11/dist-packages (from huggingface-hub>=0.20.0->sentence-transformers) (2024.10.0)\n",
            "Requirement already satisfied: typing-extensions>=3.7.4.3 in /usr/local/lib/python3.11/dist-packages (from huggingface-hub>=0.20.0->sentence-transformers) (4.12.2)\n",
            "Requirement already satisfied: networkx in /usr/local/lib/python3.11/dist-packages (from torch>=1.11.0->sentence-transformers) (3.4.2)\n",
            "Requirement already satisfied: jinja2 in /usr/local/lib/python3.11/dist-packages (from torch>=1.11.0->sentence-transformers) (3.1.6)\n",
            "Requirement already satisfied: nvidia-cuda-nvrtc-cu12==12.4.127 in /usr/local/lib/python3.11/dist-packages (from torch>=1.11.0->sentence-transformers) (12.4.127)\n",
            "Requirement already satisfied: nvidia-cuda-runtime-cu12==12.4.127 in /usr/local/lib/python3.11/dist-packages (from torch>=1.11.0->sentence-transformers) (12.4.127)\n",
            "Requirement already satisfied: nvidia-cuda-cupti-cu12==12.4.127 in /usr/local/lib/python3.11/dist-packages (from torch>=1.11.0->sentence-transformers) (12.4.127)\n",
            "Requirement already satisfied: nvidia-cudnn-cu12==9.1.0.70 in /usr/local/lib/python3.11/dist-packages (from torch>=1.11.0->sentence-transformers) (9.1.0.70)\n",
            "Requirement already satisfied: nvidia-cublas-cu12==12.4.5.8 in /usr/local/lib/python3.11/dist-packages (from torch>=1.11.0->sentence-transformers) (12.4.5.8)\n",
            "Requirement already satisfied: nvidia-cufft-cu12==11.2.1.3 in /usr/local/lib/python3.11/dist-packages (from torch>=1.11.0->sentence-transformers) (11.2.1.3)\n",
            "Requirement already satisfied: nvidia-curand-cu12==10.3.5.147 in /usr/local/lib/python3.11/dist-packages (from torch>=1.11.0->sentence-transformers) (10.3.5.147)\n",
            "Requirement already satisfied: nvidia-cusolver-cu12==11.6.1.9 in /usr/local/lib/python3.11/dist-packages (from torch>=1.11.0->sentence-transformers) (11.6.1.9)\n",
            "Requirement already satisfied: nvidia-cusparse-cu12==12.3.1.170 in /usr/local/lib/python3.11/dist-packages (from torch>=1.11.0->sentence-transformers) (12.3.1.170)\n",
            "Requirement already satisfied: nvidia-nccl-cu12==2.21.5 in /usr/local/lib/python3.11/dist-packages (from torch>=1.11.0->sentence-transformers) (2.21.5)\n",
            "Requirement already satisfied: nvidia-nvtx-cu12==12.4.127 in /usr/local/lib/python3.11/dist-packages (from torch>=1.11.0->sentence-transformers) (12.4.127)\n",
            "Requirement already satisfied: nvidia-nvjitlink-cu12==12.4.127 in /usr/local/lib/python3.11/dist-packages (from torch>=1.11.0->sentence-transformers) (12.4.127)\n",
            "Requirement already satisfied: triton==3.1.0 in /usr/local/lib/python3.11/dist-packages (from torch>=1.11.0->sentence-transformers) (3.1.0)\n",
            "Requirement already satisfied: sympy==1.13.1 in /usr/local/lib/python3.11/dist-packages (from torch>=1.11.0->sentence-transformers) (1.13.1)\n",
            "Requirement already satisfied: mpmath<1.4,>=1.1.0 in /usr/local/lib/python3.11/dist-packages (from sympy==1.13.1->torch>=1.11.0->sentence-transformers) (1.3.0)\n",
            "Requirement already satisfied: charset-normalizer<4,>=2 in /usr/local/lib/python3.11/dist-packages (from requests->transformers) (3.4.1)\n",
            "Requirement already satisfied: idna<4,>=2.5 in /usr/local/lib/python3.11/dist-packages (from requests->transformers) (3.10)\n",
            "Requirement already satisfied: urllib3<3,>=1.21.1 in /usr/local/lib/python3.11/dist-packages (from requests->transformers) (2.3.0)\n",
            "Requirement already satisfied: certifi>=2017.4.17 in /usr/local/lib/python3.11/dist-packages (from requests->transformers) (2025.1.31)\n",
            "Requirement already satisfied: joblib>=1.2.0 in /usr/local/lib/python3.11/dist-packages (from scikit-learn->sentence-transformers) (1.4.2)\n",
            "Requirement already satisfied: threadpoolctl>=3.1.0 in /usr/local/lib/python3.11/dist-packages (from scikit-learn->sentence-transformers) (3.5.0)\n",
            "Requirement already satisfied: MarkupSafe>=2.0 in /usr/local/lib/python3.11/dist-packages (from jinja2->torch>=1.11.0->sentence-transformers) (3.0.2)\n"
          ]
        }
      ]
    },
    {
      "cell_type": "code",
      "source": [
        "!git clone https://github.com/Rithvik50/Legal_AEye-Opener.git"
      ],
      "metadata": {
        "colab": {
          "base_uri": "https://localhost:8080/"
        },
        "id": "cGUl-_EicVhb",
        "outputId": "014ea0c2-7059-4c87-8a4a-b0d82621aaf2"
      },
      "execution_count": 2,
      "outputs": [
        {
          "output_type": "stream",
          "name": "stdout",
          "text": [
            "Cloning into 'Legal_AEye-Opener'...\n",
            "remote: Enumerating objects: 94, done.\u001b[K\n",
            "remote: Counting objects: 100% (22/22), done.\u001b[K\n",
            "remote: Compressing objects: 100% (17/17), done.\u001b[K\n",
            "remote: Total 94 (delta 12), reused 5 (delta 5), pack-reused 72 (from 1)\u001b[K\n",
            "Receiving objects: 100% (94/94), 425.92 KiB | 7.61 MiB/s, done.\n",
            "Resolving deltas: 100% (29/29), done.\n"
          ]
        }
      ]
    },
    {
      "cell_type": "code",
      "execution_count": 5,
      "metadata": {
        "id": "ZyDN0IwRNSW6",
        "outputId": "452d91a5-65c8-46d2-abb4-d65c5826c7d3",
        "colab": {
          "base_uri": "https://localhost:8080/"
        }
      },
      "outputs": [
        {
          "output_type": "stream",
          "name": "stderr",
          "text": [
            "Device set to use cuda:0\n",
            "Device set to use cuda:0\n",
            "Truncation was not explicitly activated but `max_length` is provided a specific value, please use `truncation=True` to explicitly truncate examples to max length. Defaulting to 'longest_first' truncation strategy. If you encode pairs of sequences (GLUE-style) with the tokenizer you can select this strategy more precisely by providing a specific strategy to `truncation`.\n"
          ]
        },
        {
          "output_type": "stream",
          "name": "stdout",
          "text": [
            "Relevant Laws:\n",
            "\n",
            "IPC Chapter 17 - Offences Against Property\n",
            "- Section 378: A person is said to cause a thing to move by removing an obstacle which prevented it from moving or by separating it from any other thing. The consent mentioned in the definition may be express or implied, and may be given either by the person in possession, or by the owner.\n",
            "\n",
            "IPC Chapter 23 - Attempts to Commit Offences\n",
            "- Section 511: Punishment for attempting to commit offences punishable with imprisonment for life or other imprisonment.Whoever attempts to commit an offence punishable by this Code with imprisonment or imprisonment, or to cause such an offence to be committed, shall be punished with imprisonment of any description.\n",
            "\n",
            "Steps to Report:\n",
            "1. Visit the nearest police station.\n",
            "2. File an FIR (First Information Report) detailing the theft.\n",
            "3. Provide any evidence such as CCTV footage or witness statements.\n",
            "4. Obtain a copy of the FIR for reference.\n",
            "5. Follow up with the police regarding the investigation.\n",
            "\n",
            "Explain the importance of the retrieved laws and how they apply to the user's case.\n",
            "In addition to this, explain the role of the police officer, the actions to be taken in case of theft or loss (such as the right to destroy a mobile phone in case of theft), and the consequences of failure to obey the police orders.\n",
            "\n",
            "Steps to Submit:\n",
            "1. You must have your identity documents along with you when you approach the police station to file an FIR (First Information Report).\n",
            "2. You should produce your original documents when the police officer interrogates you, even if you make a photocopy of copies of these documents.\n",
            "\n",
            "Suggested Content:\n",
            "\n",
            "In addition to this, explain the roles and responsibilities of the police officers and explain how it can be better to ensure that the police can catch the culprits involved in a crime.\n",
            "\n",
            "Steps to Receive:\n",
            "1. Visit the nearest police station and submit the Form 1 of the FIR (First Information Report) along with the following documents:\n",
            "\n",
            "Name :\n",
            "\n",
            "Age:\n",
            "\n",
            "Father's Full Name :\n",
            "\n",
            "Mother's Full Name :\n",
            "\n",
            "Date of Birth : Date of Birth : -\n",
            "\n",
            "Police Station:\n",
            "\n",
            "City:\n",
            "\n",
            "State (if any) :\n",
            "\n",
            "Place of Birth:\n",
            "\n",
            "Phone Number :\n",
            "\n",
            "Mobile #:\n",
            "\n",
            "Address (\n"
          ]
        }
      ],
      "source": [
        "import faiss\n",
        "import numpy as np\n",
        "from sentence_transformers import SentenceTransformer\n",
        "import json\n",
        "from transformers import pipeline\n",
        "import re\n",
        "\n",
        "# Load embedding model\n",
        "model = SentenceTransformer(\"all-MiniLM-L6-v2\")\n",
        "\n",
        "# Load FAISS index and metadata\n",
        "def load_faiss():\n",
        "    global index, documents\n",
        "    index = faiss.read_index(\"/content/Legal_AEye-Opener/law_faiss.index\")\n",
        "    with open(\"/content/Legal_AEye-Opener/law_metadata.json\", \"r\", encoding=\"utf-8\") as f:\n",
        "        documents = json.load(f)\n",
        "\n",
        "# Extract section number from content\n",
        "def extract_section_number(content):\n",
        "    match = re.search(r\"Section\\s*(\\d+)\", content)\n",
        "    return match.group(1) if match else \"Unknown\"\n",
        "\n",
        "# Function to retrieve relevant sections\n",
        "def retrieve_sections(query, law_type=None, top_k=3):\n",
        "    query_embedding = model.encode(query).astype(np.float32)\n",
        "    distances, indices = index.search(np.array([query_embedding]), top_k)\n",
        "\n",
        "    results = []\n",
        "    for i in range(top_k):\n",
        "        if indices[0][i] != -1:\n",
        "            section = documents[indices[0][i]]\n",
        "            if law_type is None or section[\"law_type\"].lower() == law_type.lower():\n",
        "                section[\"section_number\"] = extract_section_number(section[\"content\"])\n",
        "                results.append(section)\n",
        "    return results\n",
        "\n",
        "# Summarization function using Hugging Face model\n",
        "summarizer = pipeline(\"summarization\", model=\"facebook/bart-large-cnn\")\n",
        "\n",
        "def summarize_sections(sections):\n",
        "    summaries = {}\n",
        "    for section in sections:\n",
        "        summary = summarizer(section['content'][:1024], max_length=150, min_length=50, do_sample=False)[0]['summary_text']\n",
        "        chapter_key = f\"{section['law_type']} Chapter {section['chapter_number']} - {section['chapter_title']}\"\n",
        "        if chapter_key not in summaries:\n",
        "            summaries[chapter_key] = []\n",
        "        summaries[chapter_key].append({\n",
        "            \"section_number\": section['section_number'],\n",
        "            \"summary\": summary\n",
        "        })\n",
        "    return summaries\n",
        "\n",
        "# Function to provide crime reporting steps\n",
        "def report_steps(query):\n",
        "    steps = {\n",
        "        \"theft\": [\n",
        "            \"1. Visit the nearest police station.\",\n",
        "            \"2. File an FIR (First Information Report) detailing the theft.\",\n",
        "            \"3. Provide any evidence such as CCTV footage or witness statements.\",\n",
        "            \"4. Obtain a copy of the FIR for reference.\",\n",
        "            \"5. Follow up with the police regarding the investigation.\"\n",
        "        ],\n",
        "        \"assault\": [\n",
        "            \"1. Seek medical attention if needed.\",\n",
        "            \"2. Report the incident at the nearest police station.\",\n",
        "            \"3. File an FIR with detailed information about the assault.\",\n",
        "            \"4. Provide evidence such as medical reports or witness statements.\",\n",
        "            \"5. Follow up with the authorities for updates on the case.\"\n",
        "        ]\n",
        "    }\n",
        "    for crime, step_list in steps.items():\n",
        "        if crime in query.lower():\n",
        "            return \"\\n\".join(step_list)\n",
        "    return \"Please visit the nearest police station for guidance.\"\n",
        "\n",
        "# Load a lightweight LLM using pipeline\n",
        "llm_pipeline = pipeline(\"text-generation\", model=\"facebook/opt-1.3b\")\n",
        "\n",
        "def generate_response(query, law_type=None):\n",
        "    sections = retrieve_sections(query, law_type)\n",
        "    summaries = summarize_sections(sections)\n",
        "    steps = report_steps(query)\n",
        "\n",
        "    structured_output = \"Relevant Laws:\\n\"\n",
        "    for chapter, summary_list in summaries.items():\n",
        "        structured_output += f\"\\n{chapter}\\n\"\n",
        "        for summary_entry in summary_list:\n",
        "            structured_output += f\"- Section {summary_entry['section_number']}: {summary_entry['summary']}\\n\"\n",
        "\n",
        "    structured_output += \"\\nSteps to Report:\\n\" + steps + \"\\n\\n\"\n",
        "    structured_output += \"Explain the importance of the retrieved laws and how they apply to the user's case.\"\n",
        "\n",
        "    response = llm_pipeline(structured_output, max_length=500, do_sample=True)[0]['generated_text']\n",
        "    return response\n",
        "\n",
        "# Example usage\n",
        "load_faiss()\n",
        "query = \"What are the laws regarding theft?\"\n",
        "law_type = \"IPC\"  # User can specify \"IPC\" or \"BNS\"\n",
        "print(generate_response(query, law_type))\n"
      ]
    }
  ],
  "metadata": {
    "accelerator": "GPU",
    "colab": {
      "gpuType": "T4",
      "provenance": []
    },
    "kaggle": {
      "accelerator": "nvidiaTeslaT4",
      "dataSources": [],
      "dockerImageVersionId": 30919,
      "isGpuEnabled": true,
      "isInternetEnabled": true,
      "language": "python",
      "sourceType": "notebook"
    },
    "kernelspec": {
      "display_name": "Python 3",
      "name": "python3"
    },
    "language_info": {
      "codemirror_mode": {
        "name": "ipython",
        "version": 3
      },
      "file_extension": ".py",
      "mimetype": "text/x-python",
      "name": "python",
      "nbconvert_exporter": "python",
      "pygments_lexer": "ipython3",
      "version": "3.10.6"
    }
  },
  "nbformat": 4,
  "nbformat_minor": 0
}