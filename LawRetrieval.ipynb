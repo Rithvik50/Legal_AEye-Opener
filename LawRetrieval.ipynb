{
  "cells": [
    {
      "cell_type": "markdown",
      "source": [
        "Installing packages"
      ],
      "metadata": {
        "id": "o_y2L11cNo1M"
      }
    },
    {
      "cell_type": "code",
      "execution_count": 8,
      "metadata": {
        "execution": {
          "iopub.execute_input": "2025-03-04T04:12:48.000328Z",
          "iopub.status.busy": "2025-03-04T04:12:48.000049Z",
          "iopub.status.idle": "2025-03-04T04:12:55.237532Z",
          "shell.execute_reply": "2025-03-04T04:12:55.236507Z",
          "shell.execute_reply.started": "2025-03-04T04:12:48.000306Z"
        },
        "id": "ZtgrOd4d5iim",
        "trusted": true,
        "outputId": "d584d919-e5ff-4990-b80a-336aa8385ff6",
        "colab": {
          "base_uri": "https://localhost:8080/"
        }
      },
      "outputs": [
        {
          "output_type": "stream",
          "name": "stdout",
          "text": [
            "Requirement already satisfied: requests in /usr/local/lib/python3.11/dist-packages (2.32.3)\n",
            "Requirement already satisfied: faiss-cpu in /usr/local/lib/python3.11/dist-packages (1.10.0)\n",
            "Requirement already satisfied: sentence-transformers in /usr/local/lib/python3.11/dist-packages (3.4.1)\n",
            "Requirement already satisfied: beautifulsoup4 in /usr/local/lib/python3.11/dist-packages (4.13.3)\n",
            "Requirement already satisfied: charset-normalizer<4,>=2 in /usr/local/lib/python3.11/dist-packages (from requests) (3.4.1)\n",
            "Requirement already satisfied: idna<4,>=2.5 in /usr/local/lib/python3.11/dist-packages (from requests) (3.10)\n",
            "Requirement already satisfied: urllib3<3,>=1.21.1 in /usr/local/lib/python3.11/dist-packages (from requests) (2.3.0)\n",
            "Requirement already satisfied: certifi>=2017.4.17 in /usr/local/lib/python3.11/dist-packages (from requests) (2025.1.31)\n",
            "Requirement already satisfied: numpy<3.0,>=1.25.0 in /usr/local/lib/python3.11/dist-packages (from faiss-cpu) (1.26.4)\n",
            "Requirement already satisfied: packaging in /usr/local/lib/python3.11/dist-packages (from faiss-cpu) (24.2)\n",
            "Requirement already satisfied: transformers<5.0.0,>=4.41.0 in /usr/local/lib/python3.11/dist-packages (from sentence-transformers) (4.48.3)\n",
            "Requirement already satisfied: tqdm in /usr/local/lib/python3.11/dist-packages (from sentence-transformers) (4.67.1)\n",
            "Requirement already satisfied: torch>=1.11.0 in /usr/local/lib/python3.11/dist-packages (from sentence-transformers) (2.5.1+cu124)\n",
            "Requirement already satisfied: scikit-learn in /usr/local/lib/python3.11/dist-packages (from sentence-transformers) (1.6.1)\n",
            "Requirement already satisfied: scipy in /usr/local/lib/python3.11/dist-packages (from sentence-transformers) (1.13.1)\n",
            "Requirement already satisfied: huggingface-hub>=0.20.0 in /usr/local/lib/python3.11/dist-packages (from sentence-transformers) (0.28.1)\n",
            "Requirement already satisfied: Pillow in /usr/local/lib/python3.11/dist-packages (from sentence-transformers) (11.1.0)\n",
            "Requirement already satisfied: soupsieve>1.2 in /usr/local/lib/python3.11/dist-packages (from beautifulsoup4) (2.6)\n",
            "Requirement already satisfied: typing-extensions>=4.0.0 in /usr/local/lib/python3.11/dist-packages (from beautifulsoup4) (4.12.2)\n",
            "Requirement already satisfied: filelock in /usr/local/lib/python3.11/dist-packages (from huggingface-hub>=0.20.0->sentence-transformers) (3.17.0)\n",
            "Requirement already satisfied: fsspec>=2023.5.0 in /usr/local/lib/python3.11/dist-packages (from huggingface-hub>=0.20.0->sentence-transformers) (2024.10.0)\n",
            "Requirement already satisfied: pyyaml>=5.1 in /usr/local/lib/python3.11/dist-packages (from huggingface-hub>=0.20.0->sentence-transformers) (6.0.2)\n",
            "Requirement already satisfied: networkx in /usr/local/lib/python3.11/dist-packages (from torch>=1.11.0->sentence-transformers) (3.4.2)\n",
            "Requirement already satisfied: jinja2 in /usr/local/lib/python3.11/dist-packages (from torch>=1.11.0->sentence-transformers) (3.1.5)\n",
            "Requirement already satisfied: nvidia-cuda-nvrtc-cu12==12.4.127 in /usr/local/lib/python3.11/dist-packages (from torch>=1.11.0->sentence-transformers) (12.4.127)\n",
            "Requirement already satisfied: nvidia-cuda-runtime-cu12==12.4.127 in /usr/local/lib/python3.11/dist-packages (from torch>=1.11.0->sentence-transformers) (12.4.127)\n",
            "Requirement already satisfied: nvidia-cuda-cupti-cu12==12.4.127 in /usr/local/lib/python3.11/dist-packages (from torch>=1.11.0->sentence-transformers) (12.4.127)\n",
            "Requirement already satisfied: nvidia-cudnn-cu12==9.1.0.70 in /usr/local/lib/python3.11/dist-packages (from torch>=1.11.0->sentence-transformers) (9.1.0.70)\n",
            "Requirement already satisfied: nvidia-cublas-cu12==12.4.5.8 in /usr/local/lib/python3.11/dist-packages (from torch>=1.11.0->sentence-transformers) (12.4.5.8)\n",
            "Requirement already satisfied: nvidia-cufft-cu12==11.2.1.3 in /usr/local/lib/python3.11/dist-packages (from torch>=1.11.0->sentence-transformers) (11.2.1.3)\n",
            "Requirement already satisfied: nvidia-curand-cu12==10.3.5.147 in /usr/local/lib/python3.11/dist-packages (from torch>=1.11.0->sentence-transformers) (10.3.5.147)\n",
            "Requirement already satisfied: nvidia-cusolver-cu12==11.6.1.9 in /usr/local/lib/python3.11/dist-packages (from torch>=1.11.0->sentence-transformers) (11.6.1.9)\n",
            "Requirement already satisfied: nvidia-cusparse-cu12==12.3.1.170 in /usr/local/lib/python3.11/dist-packages (from torch>=1.11.0->sentence-transformers) (12.3.1.170)\n",
            "Requirement already satisfied: nvidia-nccl-cu12==2.21.5 in /usr/local/lib/python3.11/dist-packages (from torch>=1.11.0->sentence-transformers) (2.21.5)\n",
            "Requirement already satisfied: nvidia-nvtx-cu12==12.4.127 in /usr/local/lib/python3.11/dist-packages (from torch>=1.11.0->sentence-transformers) (12.4.127)\n",
            "Requirement already satisfied: nvidia-nvjitlink-cu12==12.4.127 in /usr/local/lib/python3.11/dist-packages (from torch>=1.11.0->sentence-transformers) (12.4.127)\n",
            "Requirement already satisfied: triton==3.1.0 in /usr/local/lib/python3.11/dist-packages (from torch>=1.11.0->sentence-transformers) (3.1.0)\n",
            "Requirement already satisfied: sympy==1.13.1 in /usr/local/lib/python3.11/dist-packages (from torch>=1.11.0->sentence-transformers) (1.13.1)\n",
            "Requirement already satisfied: mpmath<1.4,>=1.1.0 in /usr/local/lib/python3.11/dist-packages (from sympy==1.13.1->torch>=1.11.0->sentence-transformers) (1.3.0)\n",
            "Requirement already satisfied: regex!=2019.12.17 in /usr/local/lib/python3.11/dist-packages (from transformers<5.0.0,>=4.41.0->sentence-transformers) (2024.11.6)\n",
            "Requirement already satisfied: tokenizers<0.22,>=0.21 in /usr/local/lib/python3.11/dist-packages (from transformers<5.0.0,>=4.41.0->sentence-transformers) (0.21.0)\n",
            "Requirement already satisfied: safetensors>=0.4.1 in /usr/local/lib/python3.11/dist-packages (from transformers<5.0.0,>=4.41.0->sentence-transformers) (0.5.3)\n",
            "Requirement already satisfied: joblib>=1.2.0 in /usr/local/lib/python3.11/dist-packages (from scikit-learn->sentence-transformers) (1.4.2)\n",
            "Requirement already satisfied: threadpoolctl>=3.1.0 in /usr/local/lib/python3.11/dist-packages (from scikit-learn->sentence-transformers) (3.5.0)\n",
            "Requirement already satisfied: MarkupSafe>=2.0 in /usr/local/lib/python3.11/dist-packages (from jinja2->torch>=1.11.0->sentence-transformers) (3.0.2)\n"
          ]
        }
      ],
      "source": [
        "!pip install requests faiss-cpu sentence-transformers beautifulsoup4"
      ]
    },
    {
      "cell_type": "markdown",
      "source": [
        "Scraping the laws and FAISS indexing"
      ],
      "metadata": {
        "id": "0avq5twQNsGl"
      }
    },
    {
      "cell_type": "code",
      "execution_count": 9,
      "metadata": {
        "execution": {
          "iopub.execute_input": "2025-03-04T04:13:04.957365Z",
          "iopub.status.busy": "2025-03-04T04:13:04.956896Z",
          "iopub.status.idle": "2025-03-04T04:14:21.093675Z",
          "shell.execute_reply": "2025-03-04T04:14:21.092908Z",
          "shell.execute_reply.started": "2025-03-04T04:13:04.957317Z"
        },
        "id": "ZDZ8cLAI3qyy",
        "trusted": true,
        "outputId": "5e091265-5561-4868-80a7-09a56cd9b02e",
        "colab": {
          "base_uri": "https://localhost:8080/"
        }
      },
      "outputs": [
        {
          "output_type": "stream",
          "name": "stdout",
          "text": [
            "Scraping and FAISS indexing complete!\n"
          ]
        }
      ],
      "source": [
        "import requests\n",
        "from bs4 import BeautifulSoup\n",
        "import faiss\n",
        "import numpy as np\n",
        "from sentence_transformers import SentenceTransformer\n",
        "import json\n",
        "\n",
        "# Initialize embedding model (Sentence-BERT for efficiency)\n",
        "model = SentenceTransformer(\"all-MiniLM-L6-v2\")\n",
        "\n",
        "BASE_URL = \"https://devgan.in\"\n",
        "LAW_TYPES = [\"ipc\", \"bns\"]  # Both IPC and BNS will be stored together\n",
        "\n",
        "# FAISS setup\n",
        "d = 384  # Dimension of embeddings (for MiniLM, it's 384)\n",
        "index = faiss.IndexFlatL2(d)\n",
        "documents = []  # To store metadata\n",
        "\n",
        "for LAW_TYPE in LAW_TYPES:\n",
        "    MAIN_URL = f\"{BASE_URL}/{LAW_TYPE}/\"\n",
        "    response = requests.get(MAIN_URL)\n",
        "    soup = BeautifulSoup(response.text, \"html.parser\")\n",
        "\n",
        "    chapters = []\n",
        "    for row in soup.select(\"table.menu tr\"):\n",
        "        columns = row.find_all(\"td\")\n",
        "        if len(columns) == 2:\n",
        "            chapter_number = columns[0].text.strip()\n",
        "            chapter_title = columns[1].text.strip()\n",
        "            chapter_link = BASE_URL + columns[1].find(\"a\")[\"href\"]\n",
        "            chapters.append((chapter_number, chapter_title, chapter_link))\n",
        "\n",
        "    # Scrape each chapter's content\n",
        "    for chapter_number, chapter_title, chapter_link in chapters:\n",
        "        chapter_response = requests.get(chapter_link)\n",
        "        chapter_soup = BeautifulSoup(chapter_response.text, \"html.parser\")\n",
        "        content_div = chapter_soup.find(\"div\", id=\"content\")\n",
        "\n",
        "        if content_div:\n",
        "            chapter_content = content_div.get_text(separator=\"\\n\", strip=True)\n",
        "        else:\n",
        "            chapter_content = \"Content not found.\"\n",
        "\n",
        "        # Generate embeddings and store in FAISS\n",
        "        embedding = model.encode(chapter_content).astype(np.float32)\n",
        "        index.add(np.array([embedding]))\n",
        "\n",
        "        # Store metadata\n",
        "        documents.append({\n",
        "            \"law_type\": LAW_TYPE.upper(),\n",
        "            \"chapter_number\": chapter_number,\n",
        "            \"chapter_title\": chapter_title,\n",
        "            \"content\": chapter_content,\n",
        "            \"source_url\": chapter_link\n",
        "        })\n",
        "\n",
        "index = faiss.write_index(index, \"law_faiss.index\")\n",
        "\n",
        "# Save metadata\n",
        "with open(\"law_metadata.json\", \"w\", encoding=\"utf-8\") as f:\n",
        "    json.dump(documents, f, ensure_ascii=False, indent=4)\n",
        "\n",
        "print(\"Scraping and FAISS indexing complete!\")\n"
      ]
    },
    {
      "cell_type": "markdown",
      "source": [
        "RAG Implementation"
      ],
      "metadata": {
        "id": "xGYjQZBMOXgC"
      }
    },
    {
      "cell_type": "code",
      "source": [
        "# Load FAISS index and metadata for RAG\n",
        "def load_faiss():\n",
        "    global index, documents\n",
        "    index = faiss.read_index(\"law_faiss.index\")\n",
        "    with open(\"law_metadata.json\", \"r\", encoding=\"utf-8\") as f:\n",
        "        documents = json.load(f)\n",
        "\n",
        "# Function to retrieve relevant sections\n",
        "def retrieve_sections(query, top_k=3):\n",
        "    query_embedding = model.encode(query).astype(np.float32)\n",
        "    distances, indices = index.search(np.array([query_embedding]), top_k)\n",
        "\n",
        "    results = []\n",
        "    for i in range(top_k):\n",
        "        if indices[0][i] != -1:\n",
        "            section = documents[indices[0][i]]\n",
        "            results.append({\n",
        "                \"law_type\": section[\"law_type\"],\n",
        "                \"chapter_number\": section[\"chapter_number\"],\n",
        "                \"chapter_title\": section[\"chapter_title\"],\n",
        "                \"content\": section[\"content\"],\n",
        "                \"source_url\": section[\"source_url\"]\n",
        "            })\n",
        "    return results\n",
        "\n",
        "# Function to summarize sections\n",
        "def summarize_sections(sections):\n",
        "    summaries = []\n",
        "    for section in sections:\n",
        "        summary = f\"{section['law_type']} Chapter {section['chapter_number']} - {section['chapter_title']}: {section['content'][:300]}...\"\n",
        "        summaries.append(summary)\n",
        "    return \"\\n\".join(summaries)\n"
      ],
      "metadata": {
        "id": "FC1QsSIVM4_Z"
      },
      "execution_count": 10,
      "outputs": []
    },
    {
      "cell_type": "markdown",
      "source": [
        "Prompt Engineering"
      ],
      "metadata": {
        "id": "x5sTGWCROxBk"
      }
    },
    {
      "cell_type": "code",
      "source": [
        "# Function to provide crime reporting steps\n",
        "def report_steps(query):\n",
        "    steps = {\n",
        "        \"theft\": [\n",
        "            \"1. Visit the nearest police station.\",\n",
        "            \"2. File an FIR (First Information Report) detailing the theft.\",\n",
        "            \"3. Provide any evidence such as CCTV footage or witness statements.\",\n",
        "            \"4. Obtain a copy of the FIR for reference.\",\n",
        "            \"5. Follow up with the police regarding the investigation.\"\n",
        "        ],\n",
        "        \"assault\": [\n",
        "            \"1. Seek medical attention if needed.\",\n",
        "            \"2. Report the incident at the nearest police station.\",\n",
        "            \"3. File an FIR with detailed information about the assault.\",\n",
        "            \"4. Provide evidence such as medical reports or witness statements.\",\n",
        "            \"5. Follow up with the authorities for updates on the case.\"\n",
        "        ]\n",
        "    }\n",
        "    for crime, step_list in steps.items():\n",
        "        if crime in query.lower():\n",
        "            return \"\\n\".join(step_list)\n",
        "    return \"Please visit the nearest police station for guidance.\"\n",
        "\n",
        "# Function to handle user query\n",
        "def handle_query(query):\n",
        "    sections = retrieve_sections(query)\n",
        "    summary = summarize_sections(sections)\n",
        "    steps = report_steps(query)\n",
        "\n",
        "    response = f\"Relevant Sections:\\n{summary}\\n\\nSteps to Report:\\n{steps}\"\n",
        "    return response\n",
        "\n",
        "# Example usage\n",
        "load_faiss()\n",
        "query = \"What are the laws regarding theft?\"\n",
        "print(handle_query(query))"
      ],
      "metadata": {
        "id": "XeovvklAON66",
        "outputId": "18ca4315-af43-4977-c1fd-d9cf7c058313",
        "colab": {
          "base_uri": "https://localhost:8080/"
        }
      },
      "execution_count": 11,
      "outputs": [
        {
          "output_type": "stream",
          "name": "stdout",
          "text": [
            "Relevant Sections:\n",
            "BNS Chapter 17 - Offences Against Property: Chapter\n",
            "XVII\n",
            "– Of Offences Against Property\n",
            "Of Theft\n",
            "Section\n",
            "303\n",
            "– Theft.\n",
            "Whoever, intending to take dishonestly any movable property out of the possession of any person without that person’s consent, moves that property in order to such taking, is said to commit theft.\n",
            "Explanation 1:\n",
            "A thing so lon...\n",
            "IPC Chapter 17 - Offences Against Property: Chapter\n",
            "XVII\n",
            "– Of Offences Against Property\n",
            "Section\n",
            "378\n",
            ":- Theft\n",
            "Whoever, intending to take dishonestly any movable property out of the possession of any person without that person’ consent, moves that property in order to such taking, is said to commit theft.\n",
            "Explanations\n",
            "A thing so long as it is a...\n",
            "IPC Chapter 23 - Attempts to Commit Offences: Chapter\n",
            "XXIII\n",
            "– Of Attempts to Commit Offences\n",
            "Section\n",
            "511\n",
            ":- Punishment for attempting to commit offences punishable with imprisonment for life or other imprisonment\n",
            "Whoever attempts to commit an offence punishable by this Code with imprisonment for life or imprisonment, or to cause such an offence...\n",
            "\n",
            "Steps to Report:\n",
            "1. Visit the nearest police station.\n",
            "2. File an FIR (First Information Report) detailing the theft.\n",
            "3. Provide any evidence such as CCTV footage or witness statements.\n",
            "4. Obtain a copy of the FIR for reference.\n",
            "5. Follow up with the police regarding the investigation.\n"
          ]
        }
      ]
    }
  ],
  "metadata": {
    "accelerator": "GPU",
    "colab": {
      "gpuType": "T4",
      "provenance": []
    },
    "kaggle": {
      "accelerator": "nvidiaTeslaT4",
      "dataSources": [],
      "dockerImageVersionId": 30919,
      "isGpuEnabled": true,
      "isInternetEnabled": true,
      "language": "python",
      "sourceType": "notebook"
    },
    "kernelspec": {
      "display_name": "Python 3",
      "language": "python",
      "name": "python3"
    },
    "language_info": {
      "codemirror_mode": {
        "name": "ipython",
        "version": 3
      },
      "file_extension": ".py",
      "mimetype": "text/x-python",
      "name": "python",
      "nbconvert_exporter": "python",
      "pygments_lexer": "ipython3",
      "version": "3.10.12"
    }
  },
  "nbformat": 4,
  "nbformat_minor": 0
}